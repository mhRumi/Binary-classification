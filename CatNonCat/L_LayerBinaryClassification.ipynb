{
  "nbformat": 4,
  "nbformat_minor": 0,
  "metadata": {
    "colab": {
      "name": "L_LayerBinaryClassification.ipynb",
      "provenance": [],
      "collapsed_sections": []
    },
    "kernelspec": {
      "display_name": "Python 3",
      "name": "python3"
    }
  },
  "cells": [
    {
      "cell_type": "code",
      "metadata": {
        "id": "EdMn416RiRZW"
      },
      "source": [
        "from PIL import Image\n",
        "import numpy as np\n",
        "import os\n",
        "from sklearn.utils import shuffle\n",
        "import matplotlib.pyplot as plt\n",
        "from numpy import *\n",
        "import h5py"
      ],
      "execution_count": 95,
      "outputs": []
    },
    {
      "cell_type": "code",
      "metadata": {
        "id": "0tcJaFaakuEa"
      },
      "source": [
        "def load_data():\n",
        "    train_dataset = h5py.File('/content/drive/My Drive/CatNonCat/Dataset/train_catvnoncat.h5', \"r\")\n",
        "    train_set_x_orig = np.array(train_dataset[\"train_set_x\"][:]) # your train set features\n",
        "    train_set_y_orig = np.array(train_dataset[\"train_set_y\"][:]) # your train set labels\n",
        "\n",
        "    test_dataset = h5py.File('/content/drive/My Drive/CatNonCat/Dataset/test_catvnoncat.h5', \"r\")\n",
        "    test_set_x_orig = np.array(test_dataset[\"test_set_x\"][:]) # your test set features\n",
        "    test_set_y_orig = np.array(test_dataset[\"test_set_y\"][:]) # your test set labels\n",
        "\n",
        "    classes = np.array(test_dataset[\"list_classes\"][:]) # the list of classes\n",
        "    \n",
        "    train_set_y_orig = train_set_y_orig.reshape((1, train_set_y_orig.shape[0]))\n",
        "    test_set_y_orig = test_set_y_orig.reshape((1, test_set_y_orig.shape[0]))\n",
        "    \n",
        "    return train_set_x_orig, train_set_y_orig, test_set_x_orig, test_set_y_orig, classes"
      ],
      "execution_count": 96,
      "outputs": []
    },
    {
      "cell_type": "code",
      "metadata": {
        "id": "0vOrBLcBn8VV"
      },
      "source": [
        "train_x_orig, train_y, test_x_orig, test_y, classes = load_data()"
      ],
      "execution_count": 101,
      "outputs": []
    },
    {
      "cell_type": "code",
      "metadata": {
        "id": "ivSWHQpfqGnK",
        "outputId": "0c475acf-070c-4bde-9175-30cedb17a0ae",
        "colab": {
          "base_uri": "https://localhost:8080/",
          "height": 52
        }
      },
      "source": [
        "train_x_flatten = train_x_orig.reshape(train_x_orig.shape[0], -1).T   # The \"-1\" makes reshape flatten the remaining dimensions\n",
        "test_x_flatten = test_x_orig.reshape(test_x_orig.shape[0], -1).T\n",
        "\n",
        "# Standardize data to have feature values between 0 and 1.\n",
        "train_x = train_x_flatten/255.\n",
        "test_x = test_x_flatten/255.\n",
        "\n",
        "print (\"train_x's shape: \" + str(train_x.shape))\n",
        "print (\"test_x's shape: \" + str(test_x.shape))"
      ],
      "execution_count": 102,
      "outputs": [
        {
          "output_type": "stream",
          "text": [
            "train_x's shape: (12288, 209)\n",
            "test_x's shape: (12288, 50)\n"
          ],
          "name": "stdout"
        }
      ]
    },
    {
      "cell_type": "code",
      "metadata": {
        "id": "DdRceRUrinuF"
      },
      "source": [
        "\n",
        "#file paths\n",
        "#training data path\n",
        "cat = '/content/drive/My Drive/CatNonCat/Dataset/cat/' #write complete path if file is not in same directory as that of this code\n",
        "non_cat = '/content/drive/My Drive/CatNonCat/Dataset/notcat/'\n",
        "resized_cat = '/content/drive/My Drive/CatNonCat/Dataset/resized/cat/'\n",
        "resized_non_cat = '/content/drive/My Drive/CatNonCat/Dataset/resized/non_cat/'\n",
        "\n",
        "#test data path\n",
        "cat_test = '/content/drive/My Drive/CatNonCat/Dataset/cat_test/' \n",
        "non_cat_test = '/content/drive/My Drive/CatNonCat/Dataset/notcat_test/'\n",
        "resized_cat_test = '/content/drive/My Drive/CatNonCat/Dataset/resized/cat_test/'\n",
        "resized_non_cat_test = '/content/drive/My Drive/CatNonCat/Dataset/resized/nonCat_test/'"
      ],
      "execution_count": 3,
      "outputs": []
    },
    {
      "cell_type": "code",
      "metadata": {
        "id": "EW-FD0U4jFqx"
      },
      "source": [
        "#traning data\n",
        "list_cat = os.listdir(resized_cat)\n",
        "list_non_cat = os.listdir(resized_non_cat)\n",
        "\n",
        "#test data\n",
        "list_cat_test = os.listdir(resized_cat_test)\n",
        "list_non_cat_test = os.listdir(resized_non_cat_test)"
      ],
      "execution_count": 4,
      "outputs": []
    },
    {
      "cell_type": "code",
      "metadata": {
        "id": "e-KkL2c7jLNa"
      },
      "source": [
        "m_cat = len(list_cat)\n",
        "m_non_cat = len(list_non_cat)\n",
        "m_cat_test = len(list_cat_test)\n",
        "m_non_cat_test = len(list_non_cat_test)"
      ],
      "execution_count": 5,
      "outputs": []
    },
    {
      "cell_type": "code",
      "metadata": {
        "id": "wxAnW477jSYJ",
        "outputId": "a8cb45b1-c97b-49af-ee2e-d6e3a440cfad",
        "colab": {
          "base_uri": "https://localhost:8080/",
          "height": 86
        }
      },
      "source": [
        "print(m_cat)\n",
        "print(m_non_cat)\n",
        "print(m_cat_test)\n",
        "print(m_non_cat_test)"
      ],
      "execution_count": 6,
      "outputs": [
        {
          "output_type": "stream",
          "text": [
            "544\n",
            "400\n",
            "186\n",
            "200\n"
          ],
          "name": "stdout"
        }
      ]
    },
    {
      "cell_type": "code",
      "metadata": {
        "id": "QWl-NDh9jtVs"
      },
      "source": [
        "train_cat = np.array([np.array(Image.open(resized_cat+i)).flatten() for i in list_cat], 'f')\n",
        "test_cat = np.array([np.array(Image.open(resized_cat_test+i)).flatten() for i in list_cat_test], 'f')"
      ],
      "execution_count": 7,
      "outputs": []
    },
    {
      "cell_type": "code",
      "metadata": {
        "id": "knVcn68Pjyrf",
        "outputId": "64d2598d-5579-40d9-c65d-285b6f8b519e",
        "colab": {
          "base_uri": "https://localhost:8080/",
          "height": 86
        }
      },
      "source": [
        "print(train_cat.shape)\n",
        "print(test_cat.shape)\n",
        "\n",
        "train_cat = train_cat.T\n",
        "test_cat = test_cat.T\n",
        "\n",
        "print(train_cat.shape)\n",
        "print(test_cat.shape)"
      ],
      "execution_count": 8,
      "outputs": [
        {
          "output_type": "stream",
          "text": [
            "(544, 120000)\n",
            "(186, 120000)\n",
            "(120000, 544)\n",
            "(120000, 186)\n"
          ],
          "name": "stdout"
        }
      ]
    },
    {
      "cell_type": "code",
      "metadata": {
        "id": "q6WsW05-kauR"
      },
      "source": [
        "train_non_cat = np.array([np.array(Image.open(resized_non_cat+i)).flatten() for i in list_non_cat], 'f')\n",
        "test_non_cat = np.array([np.array(Image.open(resized_non_cat_test+i)).flatten() for i in list_non_cat_test], 'f')"
      ],
      "execution_count": 9,
      "outputs": []
    },
    {
      "cell_type": "code",
      "metadata": {
        "id": "-AOBKiNXkg2X",
        "outputId": "829331b5-cb39-4c20-979d-c3ec71e584af",
        "colab": {
          "base_uri": "https://localhost:8080/",
          "height": 86
        }
      },
      "source": [
        "print(train_non_cat.shape)\n",
        "print(test_non_cat.shape)\n",
        "\n",
        "train_non_cat = train_non_cat.T\n",
        "test_non_cat = test_non_cat.T\n",
        "\n",
        "print(train_non_cat.shape)\n",
        "print(test_non_cat.shape)"
      ],
      "execution_count": 10,
      "outputs": [
        {
          "output_type": "stream",
          "text": [
            "(400, 120000)\n",
            "(200, 120000)\n",
            "(120000, 400)\n",
            "(120000, 200)\n"
          ],
          "name": "stdout"
        }
      ]
    },
    {
      "cell_type": "code",
      "metadata": {
        "id": "nGz1rWQakj_H"
      },
      "source": [
        "final_train = np.concatenate((train_cat, train_non_cat), axis = 1)\n",
        "final_test = np.concatenate((test_cat, test_non_cat), axis = 1)"
      ],
      "execution_count": 11,
      "outputs": []
    },
    {
      "cell_type": "code",
      "metadata": {
        "id": "xuSD_xFYknoY",
        "outputId": "ce177eb7-0b2e-4235-aef8-3fc21509aef9",
        "colab": {
          "base_uri": "https://localhost:8080/",
          "height": 52
        }
      },
      "source": [
        "print(final_train.shape)\n",
        "print(final_test.shape)"
      ],
      "execution_count": 12,
      "outputs": [
        {
          "output_type": "stream",
          "text": [
            "(120000, 944)\n",
            "(120000, 386)\n"
          ],
          "name": "stdout"
        }
      ]
    },
    {
      "cell_type": "code",
      "metadata": {
        "id": "dDusiC3JksMw"
      },
      "source": [
        "#Labelling the dataset\n",
        "\n",
        "m = final_train.shape[1]\n",
        "m_test = final_test.shape[1]\n",
        "Y = np.zeros((m, 1), dtype=int)\n",
        "Y_test = np.zeros((m_test, 1),dtype=int)\n",
        "Y[0:m_cat] = 1\n",
        "Y_test[0:m_cat_test] = 1"
      ],
      "execution_count": 13,
      "outputs": []
    },
    {
      "cell_type": "code",
      "metadata": {
        "id": "bogZSEfHkwuO",
        "outputId": "f8efcb62-bcd5-4712-88bd-7e9db0403ee4",
        "colab": {
          "base_uri": "https://localhost:8080/",
          "height": 34
        }
      },
      "source": [
        "Y.shape"
      ],
      "execution_count": 14,
      "outputs": [
        {
          "output_type": "execute_result",
          "data": {
            "text/plain": [
              "(944, 1)"
            ]
          },
          "metadata": {
            "tags": []
          },
          "execution_count": 14
        }
      ]
    },
    {
      "cell_type": "code",
      "metadata": {
        "id": "TwPcdTUak0hp",
        "outputId": "144f7c93-8283-4436-f458-273c6c8ccead",
        "colab": {
          "base_uri": "https://localhost:8080/",
          "height": 34
        }
      },
      "source": [
        "Y_test.shape"
      ],
      "execution_count": 15,
      "outputs": [
        {
          "output_type": "execute_result",
          "data": {
            "text/plain": [
              "(386, 1)"
            ]
          },
          "metadata": {
            "tags": []
          },
          "execution_count": 15
        }
      ]
    },
    {
      "cell_type": "code",
      "metadata": {
        "id": "5iL006FMk_HF",
        "outputId": "ea90001b-4430-4f05-f04b-148724a2e1b5",
        "colab": {
          "base_uri": "https://localhost:8080/",
          "height": 52
        }
      },
      "source": [
        "final_train = final_train.T\n",
        "final_test = final_test.T\n",
        "\n",
        "print(final_train.shape)\n",
        "print(final_test.shape)"
      ],
      "execution_count": 16,
      "outputs": [
        {
          "output_type": "stream",
          "text": [
            "(944, 120000)\n",
            "(386, 120000)\n"
          ],
          "name": "stdout"
        }
      ]
    },
    {
      "cell_type": "code",
      "metadata": {
        "id": "7FhDlcKDk_2d"
      },
      "source": [
        "#shuffle data\n",
        "X_train,Y_train = shuffle(final_train,Y, random_state=0)\n",
        "X_test,Y_test = shuffle(final_test,Y_test, random_state=0)"
      ],
      "execution_count": 17,
      "outputs": []
    },
    {
      "cell_type": "code",
      "metadata": {
        "id": "mTsPsTUilFA5"
      },
      "source": [
        "X_train = X_train.T\n",
        "X_test = X_test.T"
      ],
      "execution_count": 18,
      "outputs": []
    },
    {
      "cell_type": "code",
      "metadata": {
        "id": "TjYYfzVFlHUq",
        "outputId": "f290da67-610a-422d-9a2a-2aab4cb4656d",
        "colab": {
          "base_uri": "https://localhost:8080/",
          "height": 52
        }
      },
      "source": [
        "print(X_train.shape)\n",
        "print(X_test.shape)"
      ],
      "execution_count": 19,
      "outputs": [
        {
          "output_type": "stream",
          "text": [
            "(120000, 944)\n",
            "(120000, 386)\n"
          ],
          "name": "stdout"
        }
      ]
    },
    {
      "cell_type": "code",
      "metadata": {
        "id": "Yany_ph3lKGj"
      },
      "source": [
        "Y_train = Y_train.T\n",
        "Y_test = Y_test.T"
      ],
      "execution_count": 20,
      "outputs": []
    },
    {
      "cell_type": "code",
      "metadata": {
        "id": "vNnrSl3QlMoN",
        "outputId": "2b38fc2e-390f-447a-9828-58c9f3d64c1b",
        "colab": {
          "base_uri": "https://localhost:8080/",
          "height": 52
        }
      },
      "source": [
        "print(Y_train.shape)\n",
        "print(Y_test.shape)"
      ],
      "execution_count": 21,
      "outputs": [
        {
          "output_type": "stream",
          "text": [
            "(1, 944)\n",
            "(1, 386)\n"
          ],
          "name": "stdout"
        }
      ]
    },
    {
      "cell_type": "code",
      "metadata": {
        "id": "U_LrGi61lQjO"
      },
      "source": [
        "#standardize data\n",
        "X_train = X_train/255   #255 is maximum possible value in image pixle \n",
        "X_test = X_test/255"
      ],
      "execution_count": 22,
      "outputs": []
    },
    {
      "cell_type": "code",
      "metadata": {
        "id": "re2yZBuepnuk"
      },
      "source": [
        "def sigmoid(Z):\n",
        "    A = 1/(1+ np.exp(-Z))\n",
        "    cache = Z\n",
        "    return A, cache"
      ],
      "execution_count": 23,
      "outputs": []
    },
    {
      "cell_type": "code",
      "metadata": {
        "id": "a6BONxJ5u0vP"
      },
      "source": [
        "def relu(Z):\n",
        "\n",
        "  A = np.maximum(0, Z)\n",
        "  assert(A.shape == Z.shape)\n",
        "  cache = Z \n",
        "  return A, cache"
      ],
      "execution_count": 24,
      "outputs": []
    },
    {
      "cell_type": "code",
      "metadata": {
        "id": "HZbJhDRGmEUn"
      },
      "source": [
        "def initialize_parameters_deep(layer_dims):\n",
        "  \n",
        "  parameters = {}\n",
        "  L = len(layer_dims)\n",
        "\n",
        "  for l in range(1, L):\n",
        "    parameters['W' + str(l)] = np.random.randn(layer_dims[l], layer_dims[l-1])/ np.sqrt(layer_dims[l-1])\n",
        "    parameters['b' + str(l)] = np.zeros((layer_dims[l], 1))\n",
        "\n",
        "    assert(parameters['W' + str(l)].shape == (layer_dims[l], layer_dims[l-1]))\n",
        "    assert(parameters['b' + str(l)].shape == (layer_dims[l], 1))\n",
        "    \n",
        "  return parameters"
      ],
      "execution_count": 119,
      "outputs": []
    },
    {
      "cell_type": "code",
      "metadata": {
        "id": "-jUB_uePsDbG"
      },
      "source": [
        "def linear_forward(A, W, b):\n",
        "\n",
        "  Z = np.dot(W, A) + b\n",
        "\n",
        "  assert(Z.shape == (W.shape[0], A.shape[1]))\n",
        "  cache = (A, W, b)\n",
        "\n",
        "  return Z, cache"
      ],
      "execution_count": 26,
      "outputs": []
    },
    {
      "cell_type": "code",
      "metadata": {
        "id": "v4whkOmHtNXJ"
      },
      "source": [
        "def linear_activation_forward(A_prev, W, b, activation):\n",
        "\n",
        "  if activation == \"sigmoid\":\n",
        "    Z, linear_cache = linear_forward(A_prev, W, b)\n",
        "    A, activation_cache = sigmoid(Z)\n",
        "  elif activation == \"relu\":\n",
        "    Z, linear_cache = linear_forward(A_prev, W, b)\n",
        "    A, activation_cache = relu(Z)\n",
        "\n",
        "  assert(A.shape == (W.shape[0], A_prev.shape[1]))\n",
        "  cache = (linear_cache, activation_cache)\n",
        "  return A, cache"
      ],
      "execution_count": 27,
      "outputs": []
    },
    {
      "cell_type": "code",
      "metadata": {
        "id": "pR2oDE-WvskR"
      },
      "source": [
        "def L_model_forward(X, parameters):\n",
        "    caches = []\n",
        "    A = X\n",
        "    L = len(parameters) // 2\n",
        "\n",
        "    for l in range(1, L):\n",
        "      A_prev = A\n",
        "      A, cache = linear_activation_forward(A_prev, parameters[\"W\" + str(l)], parameters[\"b\" + str(l)], activation=\"relu\")\n",
        "      caches.append(cache)\n",
        "    \n",
        "    AL, cache = linear_activation_forward(A, parameters[\"W\" + str(L)], parameters[\"b\" + str(L)], activation = \"sigmoid\")\n",
        "    caches.append(cache)\n",
        "\n",
        "    assert(AL.shape == (1,X.shape[1]))\n",
        "    return AL, caches"
      ],
      "execution_count": 28,
      "outputs": []
    },
    {
      "cell_type": "code",
      "metadata": {
        "id": "FmVMvPGey0Kp"
      },
      "source": [
        "def compute_cost(AL, Y):\n",
        "  m = Y.shape[1]\n",
        "\n",
        "  cost = (-1/m) * np.sum(np.dot(Y, np.log(AL).T) + np.dot((1-Y), np.log(1-AL).T))\n",
        "    \n",
        "  cost = np.squeeze(cost)      # To make sure your cost's shape is what we expect (e.g. this turns [[17]] into 17).\n",
        "  assert(cost.shape == ())\n",
        "    \n",
        "  return cost"
      ],
      "execution_count": 29,
      "outputs": []
    },
    {
      "cell_type": "code",
      "metadata": {
        "id": "UNMpUJu80E7L"
      },
      "source": [
        "def linear_backward(dZ, cache):\n",
        "\n",
        "    A_prev, W, b = cache\n",
        "    m = A_prev.shape[1]\n",
        "\n",
        "    dW = (1/m) * np.dot(dZ, A_prev.T)\n",
        "    db = (1/m) * np.sum(dZ, axis = 1, keepdims= True)\n",
        "    dA_prev = np.dot(W.T, dZ)\n",
        "\n",
        "    assert (dA_prev.shape == A_prev.shape)\n",
        "    assert (dW.shape == W.shape)\n",
        "    assert (db.shape == b.shape)\n",
        "    \n",
        "    return dA_prev, dW, db"
      ],
      "execution_count": 30,
      "outputs": []
    },
    {
      "cell_type": "code",
      "metadata": {
        "id": "Lta7xYPP7Pnc"
      },
      "source": [
        "def relu_backward(dA, cache):\n",
        "    \n",
        "    Z = cache\n",
        "    dZ = np.array(dA, copy=True) # just converting dz to a correct object.\n",
        "    \n",
        "    # When z <= 0, you should set dz to 0 as well. \n",
        "    dZ[Z <= 0] = 0\n",
        "    \n",
        "    assert (dZ.shape == Z.shape)\n",
        "    \n",
        "    return dZ\n",
        "\n",
        "def sigmoid_backward(dA, cache):\n",
        "    Z = cache\n",
        "    \n",
        "    s = 1/(1+np.exp(-Z))\n",
        "    dZ = dA * s * (1-s)\n",
        "    \n",
        "    assert (dZ.shape == Z.shape)\n",
        "    \n",
        "    return dZ"
      ],
      "execution_count": 31,
      "outputs": []
    },
    {
      "cell_type": "code",
      "metadata": {
        "id": "XhwTprAw7i4s"
      },
      "source": [
        "def linear_activation_backward(dA, cache, activation):\n",
        "\n",
        "  linear_cache, activation_cache = cache\n",
        "\n",
        "  if activation == \"relu\":\n",
        "    dZ = relu_backward(dA, activation_cache)\n",
        "    dA_prev, dW, db = linear_backward(dZ, linear_cache)\n",
        "\n",
        "  elif activation == \"sigmoid\":\n",
        "    dZ = sigmoid_backward(dA, activation_cache)\n",
        "    dA_prev, dW, db = linear_backward(dZ, linear_cache)\n",
        "    \n",
        "  return dA_prev, dW, db"
      ],
      "execution_count": 32,
      "outputs": []
    },
    {
      "cell_type": "code",
      "metadata": {
        "id": "prMLXQs08lCG"
      },
      "source": [
        "def L_model_backward(AL, Y, caches):\n",
        "\n",
        "    grads = {}\n",
        "    L = len(caches) # the number of layers\n",
        "    m = AL.shape[1]\n",
        "    Y = Y.reshape(AL.shape) # after this line, Y is the same shape as AL\n",
        "\n",
        "    dAL = -(np.divide(Y, AL) - np.divide(1 - Y, 1 - AL))\n",
        "\n",
        "    current_cache = caches[-1]\n",
        "\n",
        "    grads[\"dA\" + str(L-1)], grads[\"dW\" + str(L)], grads[\"db\" + str(L)] = linear_activation_backward(dAL, current_cache, \"sigmoid\")\n",
        "\n",
        "    for l in reversed(range(L-1)):\n",
        "\n",
        "        current_cache = caches[l]\n",
        "        dA_prev_temp, dW_temp, db_temp = linear_activation_backward(grads[\"dA\" + str(l + 1)], current_cache, \"relu\")\n",
        "\n",
        "        grads[\"dA\" + str(l)] = dA_prev_temp\n",
        "        grads[\"dW\" + str(l + 1)] = dW_temp\n",
        "        grads[\"db\" + str(l + 1)] = db_temp\n",
        "\n",
        "    return grads"
      ],
      "execution_count": 33,
      "outputs": []
    },
    {
      "cell_type": "code",
      "metadata": {
        "id": "N1jXtIk1-QYr"
      },
      "source": [
        "\n",
        "def update_parameters(parameters, grads, learning_rate):\n",
        "    L = len(parameters) // 2 # number of layers in the neural network\n",
        "\n",
        "    for l in range(L):\n",
        "        parameters[\"W\" + str(l+1)] = parameters[\"W\" + str(l+1)] - grads[\"dW\" + str(l+1)] * learning_rate\n",
        "        parameters[\"b\" + str(l+1)] = parameters[\"b\" + str(l+1)] - grads[\"db\" + str(l+1)] * learning_rate\n",
        "    ### END CODE HERE ###\n",
        "    return parameters"
      ],
      "execution_count": 34,
      "outputs": []
    },
    {
      "cell_type": "code",
      "metadata": {
        "id": "FvscZWl6Ag2l"
      },
      "source": [
        "# GRADED FUNCTION: L_layer_model\n",
        "\n",
        "def L_layer_model(X, Y, layers_dims, learning_rate = 0.0075, num_iterations = 3000, print_cost=False):#lr was 0.009\n",
        "\n",
        "    np.random.seed(1)\n",
        "    costs = []                         # keep track of cost\n",
        "    \n",
        "    parameters = initialize_parameters_deep(layers_dims)\n",
        "    ### END CODE HERE ###\n",
        "    \n",
        "    # Loop (gradient descent)\n",
        "    for i in range(0, num_iterations):\n",
        "\n",
        "        AL, caches =  L_model_forward(X, parameters)\n",
        "        cost = compute_cost(AL, Y)\n",
        "        grads = L_model_backward(AL, Y, caches)\n",
        "        parameters =  update_parameters(parameters, grads, learning_rate)\n",
        "        if print_cost and i % 100 == 0:\n",
        "            print (\"Cost after iteration %i: %f\" %(i, cost))\n",
        "        if print_cost and i % 100 == 0:\n",
        "            costs.append(cost)\n",
        "            \n",
        "    # plot the cost\n",
        "    plt.plot(np.squeeze(costs))\n",
        "    plt.ylabel('cost')\n",
        "    plt.xlabel('iterations (per hundreds)')\n",
        "    plt.title(\"Learning rate =\" + str(learning_rate))\n",
        "    plt.show()\n",
        "    \n",
        "    return parameters"
      ],
      "execution_count": 115,
      "outputs": []
    },
    {
      "cell_type": "code",
      "metadata": {
        "id": "jnWe7pM8noEL"
      },
      "source": [
        "def predict(X, y, parameters):\n",
        "\n",
        "    m = X.shape[1]\n",
        "    n = len(parameters) // 2 # number of layers in the neural network\n",
        "    p = np.zeros((1,m))\n",
        "    \n",
        "    # Forward propagation\n",
        "    probas, caches = L_model_forward(X, parameters)\n",
        "\n",
        "    \n",
        "    # convert probas to 0/1 predictions\n",
        "    for i in range(0, probas.shape[1]):\n",
        "        if probas[0,i] > 0.5:\n",
        "            p[0,i] = 1\n",
        "        else:\n",
        "            p[0,i] = 0\n",
        "    \n",
        "    #print results\n",
        "    #print (\"predictions: \" + str(p))\n",
        "    #print (\"true labels: \" + str(y))\n",
        "    print(\"Accuracy: \"  + str(np.sum((p == y)/m)))\n",
        "        \n",
        "    return p"
      ],
      "execution_count": 41,
      "outputs": []
    },
    {
      "cell_type": "code",
      "metadata": {
        "id": "aqNIoGU5CS4I"
      },
      "source": [
        "layers_dims = [X_train.shape[0], 50, 50, 50, 1] "
      ],
      "execution_count": 125,
      "outputs": []
    },
    {
      "cell_type": "code",
      "metadata": {
        "id": "xnmTb3CiBTaa",
        "outputId": "a9f3e8c5-0c1f-4cf8-f5bf-7006b0d3e2cc",
        "colab": {
          "base_uri": "https://localhost:8080/",
          "height": 729
        }
      },
      "source": [
        "parameters = L_layer_model(X_train, Y_train, layers_dims,learning_rate= 0.0075, num_iterations = 2500, print_cost = True)"
      ],
      "execution_count": 126,
      "outputs": [
        {
          "output_type": "stream",
          "text": [
            "Cost after iteration 0: 0.707414\n",
            "Cost after iteration 100: 0.621154\n",
            "Cost after iteration 200: 0.623740\n",
            "Cost after iteration 300: 0.697894\n",
            "Cost after iteration 400: 0.542038\n",
            "Cost after iteration 500: 0.390682\n",
            "Cost after iteration 600: 0.338009\n",
            "Cost after iteration 700: 0.514701\n",
            "Cost after iteration 800: 0.404814\n",
            "Cost after iteration 900: 0.365033\n",
            "Cost after iteration 1000: 0.393057\n",
            "Cost after iteration 1100: 0.352033\n",
            "Cost after iteration 1200: 0.242664\n",
            "Cost after iteration 1300: 0.339936\n",
            "Cost after iteration 1400: 0.224938\n",
            "Cost after iteration 1500: 0.571658\n",
            "Cost after iteration 1600: 0.244506\n",
            "Cost after iteration 1700: 0.435261\n",
            "Cost after iteration 1800: 0.380585\n",
            "Cost after iteration 1900: 0.109174\n",
            "Cost after iteration 2000: 0.107925\n",
            "Cost after iteration 2100: 0.085756\n",
            "Cost after iteration 2200: 0.260621\n",
            "Cost after iteration 2300: 0.152581\n",
            "Cost after iteration 2400: 0.142917\n"
          ],
          "name": "stdout"
        },
        {
          "output_type": "display_data",
          "data": {
            "image/png": "[encoded data removed]",
            "text/plain": [
              "<Figure size 432x288 with 1 Axes>"
            ]
          },
          "metadata": {
            "tags": [],
            "needs_background": "light"
          }
        }
      ]
    },
    {
      "cell_type": "code",
      "metadata": {
        "id": "B88tw_PswLPn",
        "outputId": "f7c66134-57f6-4c5e-cb01-794e3eadce8e",
        "colab": {
          "base_uri": "https://localhost:8080/",
          "height": 34
        }
      },
      "source": [
        "pred_train = predict(X_train, Y_train, parameters)"
      ],
      "execution_count": 127,
      "outputs": [
        {
          "output_type": "stream",
          "text": [
            "Accuracy: 0.9894067796610171\n"
          ],
          "name": "stdout"
        }
      ]
    },
    {
      "cell_type": "code",
      "metadata": {
        "id": "ETlD_dYNOlV-",
        "outputId": "22a7c39a-84c1-40ca-ce2e-f197ec8b806d",
        "colab": {
          "base_uri": "https://localhost:8080/",
          "height": 34
        }
      },
      "source": [
        "pred_test = predict(X_test, Y_test, parameters)"
      ],
      "execution_count": 128,
      "outputs": [
        {
          "output_type": "stream",
          "text": [
            "Accuracy: 0.8678756476683938\n"
          ],
          "name": "stdout"
        }
      ]
    },
    {
      "cell_type": "code",
      "metadata": {
        "id": "WWYQm8QvBfnm"
      },
      "source": [
        "layers_dims = [12288, 20, 7, 5, 1] "
      ],
      "execution_count": 120,
      "outputs": []
    },
    {
      "cell_type": "code",
      "metadata": {
        "id": "7i3c9NxocRd0",
        "outputId": "a69d23fb-eb8c-4c47-8587-70820bb256d9",
        "colab": {
          "base_uri": "https://localhost:8080/",
          "height": 729
        }
      },
      "source": [
        "parameters1 = L_layer_model(train_x, train_y, layers_dims, num_iterations = 2500, print_cost = True)"
      ],
      "execution_count": 121,
      "outputs": [
        {
          "output_type": "stream",
          "text": [
            "Cost after iteration 0: 0.771749\n",
            "Cost after iteration 100: 0.672053\n",
            "Cost after iteration 200: 0.648263\n",
            "Cost after iteration 300: 0.611507\n",
            "Cost after iteration 400: 0.567047\n",
            "Cost after iteration 500: 0.540138\n",
            "Cost after iteration 600: 0.527930\n",
            "Cost after iteration 700: 0.465477\n",
            "Cost after iteration 800: 0.369126\n",
            "Cost after iteration 900: 0.391747\n",
            "Cost after iteration 1000: 0.315187\n",
            "Cost after iteration 1100: 0.272700\n",
            "Cost after iteration 1200: 0.237419\n",
            "Cost after iteration 1300: 0.199601\n",
            "Cost after iteration 1400: 0.189263\n",
            "Cost after iteration 1500: 0.161189\n",
            "Cost after iteration 1600: 0.148214\n",
            "Cost after iteration 1700: 0.137775\n",
            "Cost after iteration 1800: 0.129740\n",
            "Cost after iteration 1900: 0.121225\n",
            "Cost after iteration 2000: 0.113821\n",
            "Cost after iteration 2100: 0.107839\n",
            "Cost after iteration 2200: 0.102855\n",
            "Cost after iteration 2300: 0.100897\n",
            "Cost after iteration 2400: 0.092878\n"
          ],
          "name": "stdout"
        },
        {
          "output_type": "display_data",
          "data": {
            "image/png": "[encoded data removed]",
            "text/plain": [
              "<Figure size 432x288 with 1 Axes>"
            ]
          },
          "metadata": {
            "tags": [],
            "needs_background": "light"
          }
        }
      ]
    },
    {
      "cell_type": "code",
      "metadata": {
        "id": "Ld-v1s9acUuF",
        "outputId": "42adea9b-4f01-44cf-fb65-2cc4350c9bba",
        "colab": {
          "base_uri": "https://localhost:8080/",
          "height": 34
        }
      },
      "source": [
        "pred_train = predict(train_x, train_y, parameters1)"
      ],
      "execution_count": 122,
      "outputs": [
        {
          "output_type": "stream",
          "text": [
            "Accuracy: 0.9856459330143539\n"
          ],
          "name": "stdout"
        }
      ]
    },
    {
      "cell_type": "code",
      "metadata": {
        "id": "VOqr8_lOlWOE",
        "outputId": "13252640-ddfd-436e-f74c-58389c2b6585",
        "colab": {
          "base_uri": "https://localhost:8080/",
          "height": 34
        }
      },
      "source": [
        "pred_test = predict(test_x, test_y, parameters1)"
      ],
      "execution_count": 123,
      "outputs": [
        {
          "output_type": "stream",
          "text": [
            "Accuracy: 0.8\n"
          ],
          "name": "stdout"
        }
      ]
    },
    {
      "cell_type": "code",
      "metadata": {
        "id": "Q3PnN5dtSbKa",
        "outputId": "df7bdc3a-761d-4b52-a54e-69fb7721987b",
        "colab": {
          "base_uri": "https://localhost:8080/",
          "height": 338
        }
      },
      "source": [
        "#my_image = \"/content/drive/My Drive/CatNonCat/my_cat.jpg\"   \n",
        "#my_image = \"/content/drive/My Drive/CatNonCat/Dataset/notcat/00000005.jpg\"\n",
        "my_image = \"/content/drive/My Drive/CatNonCat/Dataset/cat/00000013.jpg\"\n",
        "image = Image.open(my_image)\n",
        "im1 = image.resize((200,200))\n",
        "im2 = im1.convert('RGB')\n",
        "image = np.array([np.array(im2).flatten()], 'f')\n",
        "image = image.T\n",
        "print(image.shape)\n",
        "image = image/255\n",
        "my_label_y = [1]\n",
        "my_predicted_image = predict(image, my_label_y, parameters)\n",
        "\n",
        "plt.imshow(im1)\n",
        "\n",
        "if(my_predicted_image[0][0] == 1):\n",
        "  print(\"This is a cat picture\")\n",
        "else:\n",
        "  print(\"this is not cat a picture\")\n",
        "print(my_predicted_image)\n",
        "#print (\"y = \" + str(np.squeeze(my_predicted_image)) + \", your L-layer model predicts a \\\"\" + classes[int(np.squeeze(my_predicted_image)),].decode(\"utf-8\") +  \"\\\" picture.\")"
      ],
      "execution_count": 142,
      "outputs": [
        {
          "output_type": "stream",
          "text": [
            "(120000, 1)\n",
            "Accuracy: 1.0\n",
            "This is a cat picture\n",
            "[[1.]]\n"
          ],
          "name": "stdout"
        },
        {
          "output_type": "display_data",
          "data": {
            "image/png": "[encoded data removed]",
            "text/plain": [
              "<Figure size 432x288 with 1 Axes>"
            ]
          },
          "metadata": {
            "tags": [],
            "needs_background": "light"
          }
        }
      ]
    },
    {
      "cell_type": "code",
      "metadata": {
        "id": "NZgZjGPAbO08"
      },
      "source": [
        ""
      ],
      "execution_count": null,
      "outputs": []
    }
  ]
}